# ==============================================
# 📘 Image Classification for ESP32 (TinyML)
# Author : Hafizh Hilman Asyhari (HHA)
# Course : Pembelajaran Mesin Tertanam - 2025
# ==============================================

# Import required libraries
import tensorflow as tf
from tensorflow import keras
from tensorflow.keras import layers, models
import numpy as np
import matplotlib.pyplot as plt

# -------------------------------------------------
# 🧩 Step 1: Load Dataset (Using CIFAR-10 as Example)
# -------------------------------------------------
# Dataset CIFAR-10 memiliki 10 kelas gambar berwarna (32x32)
(x_train, y_train), (x_test, y_test) = keras.datasets.cifar10.load_data()

# Gunakan subset kecil agar sesuai dengan keterbatasan ESP32
x_train = x_train[:5000] / 255.0
y_train = y_train[:5000]
x_test = x_test[:1000] / 255.0
y_test = y_test[:1000]

print("Dataset loaded:", x_train.shape, x_test.shape)

# -------------------------------------------------
# 🧠 Step 2: Define a Small CNN Model
# -------------------------------------------------
model = models.Sequential([
    layers.Conv2D(16, (3,3), activation='relu', input_shape=(32,32,3)),
    layers.MaxPooling2D((2,2)),
    layers.Conv2D(32, (3,3), activation='relu'),
    layers.MaxPooling2D((2,2)),
    layers.Flatten(),
    layers.Dense(32, activation='relu'),
    layers.Dense(10, activation='softmax')
])

model.summary()

# -------------------------------------------------
# ⚙️ Step 3: Compile and Train
# -------------------------------------------------
model.compile(optimizer='adam',
              loss='sparse_categorical_crossentropy',
              metrics=['accuracy'])

history = model.fit(x_train, y_train, epochs=5, batch_size=64,
                    validation_data=(x_test, y_test))

# -------------------------------------------------
# 📈 Step 4: Evaluate Model Performance
# -------------------------------------------------
test_loss, test_acc = model.evaluate(x_test, y_test, verbose=2)
print("\n✅ Test Accuracy:", test_acc)

# Plot training history
plt.plot(history.history['accuracy'], label='train_acc')
plt.plot(history.history['val_accuracy'], label='val_acc')
plt.xlabel('Epoch')
plt.ylabel('Accuracy')
plt.legend()
plt.title("Training Accuracy Over Time")
plt.show()

# -------------------------------------------------
# 🧮 Step 5: Convert Model to TensorFlow Lite
# -------------------------------------------------
converter = tf.lite.TFLiteConverter.from_keras_model(model)
tflite_model = converter.convert()

# Simpan model .tflite
with open("trained_model.tflite", "wb") as f:
    f.write(tflite_model)

print("✅ TFLite model saved as trained_model.tflite")

# -------------------------------------------------
# 🔬 Step 6: Test TFLite Model on CPU
# -------------------------------------------------
interpreter = tf.lite.Interpreter(model_path="trained_model.tflite")
interpreter.allocate_tensors()

input_details = interpreter.get_input_details()
output_details = interpreter.get_output_details()

# Tes satu gambar acak
test_img = np.expand_dims(x_test[0], axis=0).astype(np.float32)
interpreter.set_tensor(input_details[0]['index'], test_img)
interpreter.invoke()

predictions = interpreter.get_tensor(output_details[0]['index'])
predicted_class = np.argmax(predictions)

print("Predicted class:", predicted_class)
plt.imshow(x_test[0])
plt.title(f"Predicted Class: {predicted_class}")
plt.show()

# -------------------------------------------------
# 🧩 Step 7: Quantization (Optional for ESP32)
# -------------------------------------------------
# Kuantisasi agar model lebih kecil (<250 KB)
converter.optimizations = [tf.lite.Optimize.DEFAULT]
quant_model = converter.convert()

with open("trained_model_quantized.tflite", "wb") as f:
    f.write(quant_model)

print("✅ Quantized model saved as trained_model_quantized.tflite")

# -------------------------------------------------
# 📦 Step 8: Export Model Metadata
# -------------------------------------------------
labels = ['airplane','automobile','bird','cat','deer','dog','frog','horse','ship','truck']
with open("labels.txt", "w") as f:
    for label in labels:
        f.write(f"{label}\n")

print("✅ Labels saved as labels.txt")

# -------------------------------------------------
# 🧾 Step 9: Summary
# -------------------------------------------------
print("""
Model training and conversion complete!

Files generated:
- trained_model.tflite              (Full precision)
- trained_model_quantized.tflite    (Optimized for ESP32)
- labels.txt                        (Class labels)
""")
